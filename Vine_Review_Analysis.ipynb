{
  "nbformat": 4,
  "nbformat_minor": 0,
  "metadata": {
    "colab": {
      "name": "Vine_Review_Analysis.ipynb",
      "provenance": [],
      "collapsed_sections": [],
      "authorship_tag": "ABX9TyNV+N9Cm9FnAmJHtPROGR2u",
      "include_colab_link": true
    },
    "kernelspec": {
      "name": "python3",
      "display_name": "Python 3"
    },
    "language_info": {
      "name": "python"
    }
  },
  "cells": [
    {
      "cell_type": "markdown",
      "metadata": {
        "id": "view-in-github",
        "colab_type": "text"
      },
      "source": [
        "<a href=\"https://colab.research.google.com/github/lisabinegar/Amazon_Vine_Analysis/blob/main/Vine_Review_Analysis.ipynb\" target=\"_parent\"><img src=\"https://colab.research.google.com/assets/colab-badge.svg\" alt=\"Open In Colab\"/></a>"
      ]
    },
    {
      "cell_type": "code",
      "metadata": {
        "colab": {
          "base_uri": "https://localhost:8080/"
        },
        "id": "hUnsCpH1IJ56",
        "outputId": "b07f9591-418b-4f81-c17f-bdbf77327152"
      },
      "source": [
        "import os\n",
        "# Find the latest version of spark 2.0  from http://www-us.apache.org/dist/spark/ and enter as the spark version\n",
        "# For example:\n",
        "# spark_version = 'spark-3.0.2'\n",
        "spark_version = 'spark-3.0.2'\n",
        "os.environ['SPARK_VERSION']=spark_version\n",
        "\n",
        "# Install Spark and Java\n",
        "!apt-get update\n",
        "!apt-get install openjdk-11-jdk-headless -qq > /dev/null\n",
        "!wget -q http://www-us.apache.org/dist/spark/$SPARK_VERSION/$SPARK_VERSION-bin-hadoop2.7.tgz\n",
        "!tar xf $SPARK_VERSION-bin-hadoop2.7.tgz\n",
        "!pip install -q findspark\n",
        "\n",
        "# Set Environment Variables\n",
        "import os\n",
        "os.environ[\"JAVA_HOME\"] = \"/usr/lib/jvm/java-11-openjdk-amd64\"\n",
        "os.environ[\"SPARK_HOME\"] = f\"/content/{spark_version}-bin-hadoop2.7\"\n",
        "\n",
        "# Start a SparkSession\n",
        "import findspark\n",
        "findspark.init()"
      ],
      "execution_count": 1,
      "outputs": [
        {
          "output_type": "stream",
          "text": [
            "\r0% [Working]\r            \rGet:1 http://security.ubuntu.com/ubuntu bionic-security InRelease [88.7 kB]\n",
            "Get:2 https://cloud.r-project.org/bin/linux/ubuntu bionic-cran40/ InRelease [3,626 B]\n",
            "Ign:3 https://developer.download.nvidia.com/compute/cuda/repos/ubuntu1804/x86_64  InRelease\n",
            "Hit:4 http://archive.ubuntu.com/ubuntu bionic InRelease\n",
            "Ign:5 https://developer.download.nvidia.com/compute/machine-learning/repos/ubuntu1804/x86_64  InRelease\n",
            "Hit:6 https://developer.download.nvidia.com/compute/cuda/repos/ubuntu1804/x86_64  Release\n",
            "Hit:7 https://developer.download.nvidia.com/compute/machine-learning/repos/ubuntu1804/x86_64  Release\n",
            "Get:8 http://archive.ubuntu.com/ubuntu bionic-updates InRelease [88.7 kB]\n",
            "Get:9 http://ppa.launchpad.net/c2d4u.team/c2d4u4.0+/ubuntu bionic InRelease [15.9 kB]\n",
            "Get:10 https://cloud.r-project.org/bin/linux/ubuntu bionic-cran40/ Packages [52.7 kB]\n",
            "Get:11 http://archive.ubuntu.com/ubuntu bionic-backports InRelease [74.6 kB]\n",
            "Hit:12 http://ppa.launchpad.net/cran/libgit2/ubuntu bionic InRelease\n",
            "Get:13 http://security.ubuntu.com/ubuntu bionic-security/main amd64 Packages [2,045 kB]\n",
            "Hit:14 http://ppa.launchpad.net/deadsnakes/ppa/ubuntu bionic InRelease\n",
            "Get:15 http://security.ubuntu.com/ubuntu bionic-security/universe amd64 Packages [1,402 kB]\n",
            "Hit:16 http://ppa.launchpad.net/graphics-drivers/ppa/ubuntu bionic InRelease\n",
            "Get:19 http://ppa.launchpad.net/c2d4u.team/c2d4u4.0+/ubuntu bionic/main Sources [1,749 kB]\n",
            "Get:20 http://archive.ubuntu.com/ubuntu bionic-updates/main amd64 Packages [2,475 kB]\n",
            "Get:21 http://archive.ubuntu.com/ubuntu bionic-updates/universe amd64 Packages [2,170 kB]\n",
            "Get:22 http://ppa.launchpad.net/c2d4u.team/c2d4u4.0+/ubuntu bionic/main amd64 Packages [895 kB]\n",
            "Fetched 11.1 MB in 3s (3,613 kB/s)\n",
            "Reading package lists... Done\n"
          ],
          "name": "stdout"
        }
      ]
    },
    {
      "cell_type": "code",
      "metadata": {
        "id": "fVx-O5gKIWe1"
      },
      "source": [
        "from pyspark.sql import SparkSession\n",
        "spark = SparkSession.builder.appName(\"BigData-Challenge\").config(\"spark.driver.extraClassPath\",\"/content/postgresql-42.2.16.jar\").getOrCreate()"
      ],
      "execution_count": 3,
      "outputs": []
    },
    {
      "cell_type": "code",
      "metadata": {
        "colab": {
          "base_uri": "https://localhost:8080/"
        },
        "id": "RMlWloIrIY98",
        "outputId": "965d85d3-b2c8-4e0f-d6c4-e653a2f38a8d"
      },
      "source": [
        "from pyspark import SparkFiles\n",
        "url = \"https://s3.amazonaws.com/amazon-reviews-pds/tsv/amazon_reviews_us_Grocery_v1_00.tsv.gz\"\n",
        "spark.sparkContext.addFile(url)\n",
        "df = spark.read.option(\"encoding\", \"UTF-8\").csv(SparkFiles.get(\"\"), sep=\"\\t\", header=True, inferSchema=True)\n",
        "df.show()"
      ],
      "execution_count": 4,
      "outputs": [
        {
          "output_type": "stream",
          "text": [
            "+-----------+-----------+--------------+----------+--------------+--------------------+----------------+-----------+-------------+-----------+----+-----------------+--------------------+--------------------+-----------+\n",
            "|marketplace|customer_id|     review_id|product_id|product_parent|       product_title|product_category|star_rating|helpful_votes|total_votes|vine|verified_purchase|     review_headline|         review_body|review_date|\n",
            "+-----------+-----------+--------------+----------+--------------+--------------------+----------------+-----------+-------------+-----------+----+-----------------+--------------------+--------------------+-----------+\n",
            "|         US|   42521656|R26MV8D0KG6QI6|B000SAQCWC|     159713740|The Cravings Plac...|         Grocery|          5|            0|          0|   N|                Y|Using these for y...|As a family aller...| 2015-08-31|\n",
            "|         US|   12049833|R1OF8GP57AQ1A0|B00509LVIQ|     138680402|Mauna Loa Macadam...|         Grocery|          5|            0|          0|   N|                Y|           Wonderful|My favorite nut. ...| 2015-08-31|\n",
            "|         US|     107642|R3VDC1QB6MC4ZZ|B00KHXESLC|     252021703|Organic Matcha Gr...|         Grocery|          5|            0|          0|   N|                N|          Five Stars|This green tea ta...| 2015-08-31|\n",
            "|         US|    6042304|R12FA3DCF8F9ER|B000F8JIIC|     752728342|15oz Raspberry Ly...|         Grocery|          5|            0|          0|   N|                Y|          Five Stars|I love Melissa's ...| 2015-08-31|\n",
            "|         US|   18123821| RTWHVNV6X4CNJ|B004ZWR9RQ|     552138758|Stride Spark Kine...|         Grocery|          5|            0|          0|   N|                Y|          Five Stars|                good| 2015-08-31|\n",
            "|         US|   23649464| RIG9AWFOGRDVO|B00AL6QBZ6|     681475449|Herr's Popcorn Ho...|         Grocery|          2|            1|          1|   N|                Y|           Not Happy|The popcorn was s...| 2015-08-31|\n",
            "|         US|   32778285|R1S1XSG4ZCHDGS|B00BCNSTRA|     578681693|Larabar uber, 1.4...|         Grocery|          5|            1|          1|   N|                Y|          Five Stars|Love these bars, ...| 2015-08-31|\n",
            "|         US|   46612941| RB15NBVY5ELVW|B0089MM2BG|     350968436|Shirakiku Soba No...|         Grocery|          5|            2|          2|   N|                Y|          Five Stars|Love the taste bu...| 2015-08-31|\n",
            "|         US|   31525399| R56358YM1ZJ7I|B00Y1C9770|     729982780|Jif Chocolate Nut...|         Grocery|          5|            0|          0|   N|                N|      Great tasting!|I'm a member of t...| 2015-08-31|\n",
            "|         US|   19624355|R1ODXB3C9UP3NL|B00J074W94|       2499702|Orgain Organic Pl...|         Grocery|          1|            1|          3|   N|                N|Disgusting now an...|Used to be a dece...| 2015-08-31|\n",
            "|         US|   31910375|R155ZMVLD5C9BP|B0001VKKOO|     189938205|Bragg - All Natur...|         Grocery|          4|            3|          4|   N|                Y|If you like soy s...|I cannot tell the...| 2015-08-31|\n",
            "|         US|   12816533|R2IXW43PUNYM0G|B007TGH4CK|     398128262|Wholesome Sweeten...|         Grocery|          4|            1|          1|   N|                Y|          Four Stars|Good flavor and s...| 2015-08-31|\n",
            "|         US|   23208852|R3LYEG1QCK2BG0|B002HMN6SC|      18057786|Kadoya Pure Sesam...|         Grocery|          5|            0|          0|   N|                Y|          Five Stars|Great to use in r...| 2015-08-31|\n",
            "|         US|   17348415|R20LREICPM3YH0|B004NRHAZO|     595020880|Nishiki Premium B...|         Grocery|          5|            0|          0|   N|                Y|          Five Stars|It's rice. Have e...| 2015-08-31|\n",
            "|         US|   46763945| RHA5COCZDVB13|B00V7LJIG8|     173088090|Everly Passion Fr...|         Grocery|          5|            0|          0|   N|                Y|          Five Stars|Very good tasting...| 2015-08-31|\n",
            "|         US|     961747| RT9BGRQANMANE|B0000E2YFI|     120269621|Charms Blue Razzb...|         Grocery|          5|            0|          0|   N|                Y|           Excellent|They were perfect...| 2015-08-31|\n",
            "|         US|   16888081| ROD1TU5JCS7JQ|B00VK5SQOQ|     204992966|Food Should Taste...|         Grocery|          5|            0|          0|   N|                N|              YUMMY!|Wow, these are so...| 2015-08-31|\n",
            "|         US|   22765168|R3T6TTD2IN0EFZ|B00XDXMLL2|     971154239|Skippy Creamy Pea...|         Grocery|          1|            4|          4|   N|                N|1 Out Of 5 Of My ...|I bought this fro...| 2015-08-31|\n",
            "|         US|   36328996|R1OCUGZ444NKV3|B00MN4KX3A|     787182505|Celestial Seasoni...|         Grocery|          5|            5|          5|   N|                Y|delicious tea and...|I love this tea, ...| 2015-08-31|\n",
            "|         US|   27092724| RCQQGWTC4J4TZ|B004NTCE1M|     653570135|Nutiva Organic Vi...|         Grocery|          4|            0|          0|   N|                Y|    Best coconut oil|I have used servo...| 2015-08-31|\n",
            "+-----------+-----------+--------------+----------+--------------+--------------------+----------------+-----------+-------------+-----------+----+-----------------+--------------------+--------------------+-----------+\n",
            "only showing top 20 rows\n",
            "\n"
          ],
          "name": "stdout"
        }
      ]
    },
    {
      "cell_type": "code",
      "metadata": {
        "colab": {
          "base_uri": "https://localhost:8080/"
        },
        "id": "JJlpH2l5SvG5",
        "outputId": "045a3a51-b8d6-4acc-fc81-f2e7a0141722"
      },
      "source": [
        "# Recreate the vine_table DataFrame\n",
        "vine_df = df.select([\"review_id\", \"star_rating\", \"helpful_votes\", \"total_votes\", \"vine\", \"verified_purchase\"])\n",
        "vine_df.show()"
      ],
      "execution_count": 12,
      "outputs": [
        {
          "output_type": "stream",
          "text": [
            "+--------------+-----------+-------------+-----------+----+-----------------+\n",
            "|     review_id|star_rating|helpful_votes|total_votes|vine|verified_purchase|\n",
            "+--------------+-----------+-------------+-----------+----+-----------------+\n",
            "|R26MV8D0KG6QI6|          5|            0|          0|   N|                Y|\n",
            "|R1OF8GP57AQ1A0|          5|            0|          0|   N|                Y|\n",
            "|R3VDC1QB6MC4ZZ|          5|            0|          0|   N|                N|\n",
            "|R12FA3DCF8F9ER|          5|            0|          0|   N|                Y|\n",
            "| RTWHVNV6X4CNJ|          5|            0|          0|   N|                Y|\n",
            "| RIG9AWFOGRDVO|          2|            1|          1|   N|                Y|\n",
            "|R1S1XSG4ZCHDGS|          5|            1|          1|   N|                Y|\n",
            "| RB15NBVY5ELVW|          5|            2|          2|   N|                Y|\n",
            "| R56358YM1ZJ7I|          5|            0|          0|   N|                N|\n",
            "|R1ODXB3C9UP3NL|          1|            1|          3|   N|                N|\n",
            "|R155ZMVLD5C9BP|          4|            3|          4|   N|                Y|\n",
            "|R2IXW43PUNYM0G|          4|            1|          1|   N|                Y|\n",
            "|R3LYEG1QCK2BG0|          5|            0|          0|   N|                Y|\n",
            "|R20LREICPM3YH0|          5|            0|          0|   N|                Y|\n",
            "| RHA5COCZDVB13|          5|            0|          0|   N|                Y|\n",
            "| RT9BGRQANMANE|          5|            0|          0|   N|                Y|\n",
            "| ROD1TU5JCS7JQ|          5|            0|          0|   N|                N|\n",
            "|R3T6TTD2IN0EFZ|          1|            4|          4|   N|                N|\n",
            "|R1OCUGZ444NKV3|          5|            5|          5|   N|                Y|\n",
            "| RCQQGWTC4J4TZ|          4|            0|          0|   N|                Y|\n",
            "+--------------+-----------+-------------+-----------+----+-----------------+\n",
            "only showing top 20 rows\n",
            "\n"
          ],
          "name": "stdout"
        }
      ]
    },
    {
      "cell_type": "code",
      "metadata": {
        "colab": {
          "base_uri": "https://localhost:8080/"
        },
        "id": "hfvPQALr_zGq",
        "outputId": "42f677a8-2404-4cf1-ca0d-9e831565ea8d"
      },
      "source": [
        "# Create a new DataFrame to retrieve all rows where total_votes count is equal to or greater than 20 \n",
        "votes_df = vine_df.filter(\"total_votes >= 20\")\n",
        "votes_df.show()"
      ],
      "execution_count": 13,
      "outputs": [
        {
          "output_type": "stream",
          "text": [
            "+--------------+-----------+-------------+-----------+----+-----------------+\n",
            "|     review_id|star_rating|helpful_votes|total_votes|vine|verified_purchase|\n",
            "+--------------+-----------+-------------+-----------+----+-----------------+\n",
            "|R1OAZUG90XPU2U|          5|          250|        274|   N|                Y|\n",
            "|R23VPTUJ8I8NR5|          1|           28|         30|   N|                Y|\n",
            "|R33VIWRD2X5IA9|          1|            0|         20|   N|                Y|\n",
            "| R6SRJFJ5YH4UM|          5|           23|         26|   N|                Y|\n",
            "|R3DOS07BIMP4DJ|          2|           32|         42|   N|                N|\n",
            "|R26UFXLLQ2N0CR|          1|            0|         20|   N|                Y|\n",
            "|R30PGWX4HN1CFG|          1|           85|         95|   N|                Y|\n",
            "|R2XASGYIENUHQO|          5|           28|         32|   N|                Y|\n",
            "|R34UQPQCTSKQK9|          5|           23|         26|   N|                Y|\n",
            "|R2M6WNM2OZZHKS|          1|           20|         22|   N|                N|\n",
            "| RO6JNMUJDE1LP|          5|           37|         50|   N|                N|\n",
            "|R1WNL4OIMSKDBR|          5|           35|         36|   N|                Y|\n",
            "| RDGWZ3U8LQZE6|          2|           48|         54|   N|                Y|\n",
            "|R3HFIKVOUDHT4I|          3|           64|         67|   N|                N|\n",
            "| R22M0N2OZSICN|          5|           21|         23|   N|                Y|\n",
            "|R1E43139TRHB5T|          5|           22|         22|   N|                Y|\n",
            "|R1L40ST6C2UJHK|          5|          262|        272|   N|                Y|\n",
            "|R1XISUX6DDSXKZ|          5|           37|         41|   N|                Y|\n",
            "|R35MWO8UIXOA37|          1|           20|         22|   N|                Y|\n",
            "|R1RZ0G02ASP7SF|          2|           35|         43|   N|                Y|\n",
            "+--------------+-----------+-------------+-----------+----+-----------------+\n",
            "only showing top 20 rows\n",
            "\n"
          ],
          "name": "stdout"
        }
      ]
    },
    {
      "cell_type": "code",
      "metadata": {
        "colab": {
          "base_uri": "https://localhost:8080/"
        },
        "id": "Gd_vMTMwI3py",
        "outputId": "0e5bae57-7760-4e4c-d847-082bb74cb37b"
      },
      "source": [
        "# Filter votes_df and create a new DataFrame to retrieve all rows where helpful_votes divided by total_votes is >= than 50%.\n",
        "helpful_df = votes_df.filter((votes_df.helpful_votes / votes_df.total_votes) >= 0.5)\n",
        "helpful_df.show()"
      ],
      "execution_count": 14,
      "outputs": [
        {
          "output_type": "stream",
          "text": [
            "+--------------+-----------+-------------+-----------+----+-----------------+\n",
            "|     review_id|star_rating|helpful_votes|total_votes|vine|verified_purchase|\n",
            "+--------------+-----------+-------------+-----------+----+-----------------+\n",
            "|R1OAZUG90XPU2U|          5|          250|        274|   N|                Y|\n",
            "|R23VPTUJ8I8NR5|          1|           28|         30|   N|                Y|\n",
            "| R6SRJFJ5YH4UM|          5|           23|         26|   N|                Y|\n",
            "|R3DOS07BIMP4DJ|          2|           32|         42|   N|                N|\n",
            "|R30PGWX4HN1CFG|          1|           85|         95|   N|                Y|\n",
            "|R2XASGYIENUHQO|          5|           28|         32|   N|                Y|\n",
            "|R34UQPQCTSKQK9|          5|           23|         26|   N|                Y|\n",
            "|R2M6WNM2OZZHKS|          1|           20|         22|   N|                N|\n",
            "| RO6JNMUJDE1LP|          5|           37|         50|   N|                N|\n",
            "|R1WNL4OIMSKDBR|          5|           35|         36|   N|                Y|\n",
            "| RDGWZ3U8LQZE6|          2|           48|         54|   N|                Y|\n",
            "|R3HFIKVOUDHT4I|          3|           64|         67|   N|                N|\n",
            "| R22M0N2OZSICN|          5|           21|         23|   N|                Y|\n",
            "|R1E43139TRHB5T|          5|           22|         22|   N|                Y|\n",
            "|R1L40ST6C2UJHK|          5|          262|        272|   N|                Y|\n",
            "|R1XISUX6DDSXKZ|          5|           37|         41|   N|                Y|\n",
            "|R35MWO8UIXOA37|          1|           20|         22|   N|                Y|\n",
            "|R1RZ0G02ASP7SF|          2|           35|         43|   N|                Y|\n",
            "|R10HZ77HAWVJH6|          5|           19|         22|   N|                Y|\n",
            "|R1PI04EDGLLCXV|          5|           25|         28|   N|                Y|\n",
            "+--------------+-----------+-------------+-----------+----+-----------------+\n",
            "only showing top 20 rows\n",
            "\n"
          ],
          "name": "stdout"
        }
      ]
    },
    {
      "cell_type": "code",
      "metadata": {
        "colab": {
          "base_uri": "https://localhost:8080/"
        },
        "id": "hipl4Q3qDhAg",
        "outputId": "851693b1-4944-475e-fed7-1f1794b3b0c1"
      },
      "source": [
        "# Filter helpful_df and create a new DataFrame that retrieves all rows where a review was written as part of the Vine program (paid), vine == 'Y'\n",
        "paidvine_df = helpful_df.filter(helpful_df.vine == 'Y')\n",
        "paidvine_df.show()"
      ],
      "execution_count": 20,
      "outputs": [
        {
          "output_type": "stream",
          "text": [
            "+--------------+-----------+-------------+-----------+----+-----------------+\n",
            "|     review_id|star_rating|helpful_votes|total_votes|vine|verified_purchase|\n",
            "+--------------+-----------+-------------+-----------+----+-----------------+\n",
            "|R3MKO875WGIEBJ|          5|           34|         37|   Y|                N|\n",
            "|R3OPNTK61FQ7MP|          5|           32|         37|   Y|                N|\n",
            "| RMDRU8I773X5U|          4|           22|         25|   Y|                N|\n",
            "| RR83RGWFEFZCL|          3|           61|         64|   Y|                N|\n",
            "|R2TMZ7GV8SPIRV|          4|           23|         23|   Y|                N|\n",
            "| RX88JLUIFA4Q2|          4|           84|         87|   Y|                Y|\n",
            "| RV3AHTDRHDH7R|          5|          253|        258|   Y|                N|\n",
            "|R13EGJI8C8YJ4Y|          5|           19|         20|   Y|                N|\n",
            "| R9SNSQTK4TJOG|          2|           11|         20|   Y|                N|\n",
            "|R1A76AK493C8P8|          5|           83|         90|   Y|                N|\n",
            "|R3LOTAAVOZ9D1L|          3|           19|         26|   Y|                N|\n",
            "|R1BRN47DX8UXA7|          5|          154|        159|   Y|                N|\n",
            "|R13CEXESMDKT3D|          3|           33|         36|   Y|                N|\n",
            "|R1OM89J7BP8MUZ|          1|           23|         29|   Y|                N|\n",
            "| RZP9LBF95AEHO|          3|           56|         58|   Y|                N|\n",
            "|R3V9P61EYXDNRV|          5|           51|         54|   Y|                N|\n",
            "|R2BDT05RK7TOJ9|          5|           21|         22|   Y|                N|\n",
            "|R2PFVGR88KV91R|          2|           16|         23|   Y|                N|\n",
            "|R3BV8N52HPNJJM|          4|           18|         20|   Y|                N|\n",
            "|R2GOJRL2PW4JNM|          4|           24|         30|   Y|                N|\n",
            "+--------------+-----------+-------------+-----------+----+-----------------+\n",
            "only showing top 20 rows\n",
            "\n"
          ],
          "name": "stdout"
        }
      ]
    },
    {
      "cell_type": "code",
      "metadata": {
        "colab": {
          "base_uri": "https://localhost:8080/"
        },
        "id": "UgH_bVmEDPXa",
        "outputId": "e349bee0-7332-4b1e-b5e1-dd9b346b1405"
      },
      "source": [
        "# Filter helpful_df and create a new DataFrame that retrieves all the rows where the review was not part of the Vine program (unpaid), vine == 'N'\n",
        "unpaidvine_df = helpful_df.filter(helpful_df.vine == 'N')\n",
        "unpaidvine_df.show()"
      ],
      "execution_count": 21,
      "outputs": [
        {
          "output_type": "stream",
          "text": [
            "+--------------+-----------+-------------+-----------+----+-----------------+\n",
            "|     review_id|star_rating|helpful_votes|total_votes|vine|verified_purchase|\n",
            "+--------------+-----------+-------------+-----------+----+-----------------+\n",
            "|R1OAZUG90XPU2U|          5|          250|        274|   N|                Y|\n",
            "|R23VPTUJ8I8NR5|          1|           28|         30|   N|                Y|\n",
            "| R6SRJFJ5YH4UM|          5|           23|         26|   N|                Y|\n",
            "|R3DOS07BIMP4DJ|          2|           32|         42|   N|                N|\n",
            "|R30PGWX4HN1CFG|          1|           85|         95|   N|                Y|\n",
            "|R2XASGYIENUHQO|          5|           28|         32|   N|                Y|\n",
            "|R34UQPQCTSKQK9|          5|           23|         26|   N|                Y|\n",
            "|R2M6WNM2OZZHKS|          1|           20|         22|   N|                N|\n",
            "| RO6JNMUJDE1LP|          5|           37|         50|   N|                N|\n",
            "|R1WNL4OIMSKDBR|          5|           35|         36|   N|                Y|\n",
            "| RDGWZ3U8LQZE6|          2|           48|         54|   N|                Y|\n",
            "|R3HFIKVOUDHT4I|          3|           64|         67|   N|                N|\n",
            "| R22M0N2OZSICN|          5|           21|         23|   N|                Y|\n",
            "|R1E43139TRHB5T|          5|           22|         22|   N|                Y|\n",
            "|R1L40ST6C2UJHK|          5|          262|        272|   N|                Y|\n",
            "|R1XISUX6DDSXKZ|          5|           37|         41|   N|                Y|\n",
            "|R35MWO8UIXOA37|          1|           20|         22|   N|                Y|\n",
            "|R1RZ0G02ASP7SF|          2|           35|         43|   N|                Y|\n",
            "|R10HZ77HAWVJH6|          5|           19|         22|   N|                Y|\n",
            "|R1PI04EDGLLCXV|          5|           25|         28|   N|                Y|\n",
            "+--------------+-----------+-------------+-----------+----+-----------------+\n",
            "only showing top 20 rows\n",
            "\n"
          ],
          "name": "stdout"
        }
      ]
    },
    {
      "cell_type": "code",
      "metadata": {
        "colab": {
          "base_uri": "https://localhost:8080/"
        },
        "id": "UOymcY-rXuc4",
        "outputId": "2f6e5809-2010-49c7-b35c-81982793c4aa"
      },
      "source": [
        "# Determine the total number of paid reviews\n",
        "total_paid_reviews = paidvine_df.count()\n",
        "total_paid_reviews"
      ],
      "execution_count": 30,
      "outputs": [
        {
          "output_type": "execute_result",
          "data": {
            "text/plain": [
              "61"
            ]
          },
          "metadata": {
            "tags": []
          },
          "execution_count": 30
        }
      ]
    },
    {
      "cell_type": "code",
      "metadata": {
        "colab": {
          "base_uri": "https://localhost:8080/"
        },
        "id": "l4erQ2vAYc3r",
        "outputId": "672557ce-30f7-4b2c-e24d-c86f7306562a"
      },
      "source": [
        "# Determine the number of 5-star reviews for paid reviews\n",
        "paid_five_star_reviews = paidvine_df.filter(paidvine_df.star_rating == 5).count()\n",
        "paid_five_star_reviews"
      ],
      "execution_count": 31,
      "outputs": [
        {
          "output_type": "execute_result",
          "data": {
            "text/plain": [
              "20"
            ]
          },
          "metadata": {
            "tags": []
          },
          "execution_count": 31
        }
      ]
    },
    {
      "cell_type": "code",
      "metadata": {
        "colab": {
          "base_uri": "https://localhost:8080/"
        },
        "id": "dOg7mnNxYg4W",
        "outputId": "da1a54de-edf6-43e2-bfb4-4a975d624ae6"
      },
      "source": [
        "# Determine the percentage of 5-star reviews for paid reviews\n",
        "percentage_paid_five_star_reviews = (paid_five_star_reviews / total_paid_reviews) * 100\n",
        "percentage_paid_five_star_reviews"
      ],
      "execution_count": 32,
      "outputs": [
        {
          "output_type": "execute_result",
          "data": {
            "text/plain": [
              "32.78688524590164"
            ]
          },
          "metadata": {
            "tags": []
          },
          "execution_count": 32
        }
      ]
    },
    {
      "cell_type": "code",
      "metadata": {
        "colab": {
          "base_uri": "https://localhost:8080/"
        },
        "id": "ICTKP4vDaEMZ",
        "outputId": "d3f06a42-4f02-45cd-e4f6-eb64426fdbfd"
      },
      "source": [
        "# Determine the total number of unpaid reviews\n",
        "total_unpaid_reviews = unpaidvine_df.count()\n",
        "total_unpaid_reviews"
      ],
      "execution_count": 33,
      "outputs": [
        {
          "output_type": "execute_result",
          "data": {
            "text/plain": [
              "28287"
            ]
          },
          "metadata": {
            "tags": []
          },
          "execution_count": 33
        }
      ]
    },
    {
      "cell_type": "code",
      "metadata": {
        "colab": {
          "base_uri": "https://localhost:8080/"
        },
        "id": "YFVAs9rKbGDk",
        "outputId": "9f08103c-9a5e-4335-d9a5-904ead9545ba"
      },
      "source": [
        "# Determine the number of 5-star reviews for unpaid reviews\n",
        "unpaid_five_star_reviews = unpaidvine_df.filter(unpaidvine_df.star_rating == 5).count()\n",
        "unpaid_five_star_reviews"
      ],
      "execution_count": 34,
      "outputs": [
        {
          "output_type": "execute_result",
          "data": {
            "text/plain": [
              "15689"
            ]
          },
          "metadata": {
            "tags": []
          },
          "execution_count": 34
        }
      ]
    },
    {
      "cell_type": "code",
      "metadata": {
        "colab": {
          "base_uri": "https://localhost:8080/"
        },
        "id": "oowyiXXEbJjv",
        "outputId": "bf8cf9fc-a671-4849-9191-8ec76590f409"
      },
      "source": [
        "# Determine the percentage of 5-star reviews for unpaid reviews\n",
        "percentage_unpaid_five_star_reviews = (unpaid_five_star_reviews / total_unpaid_reviews) * 100 \n",
        "percentage_unpaid_five_star_reviews"
      ],
      "execution_count": 35,
      "outputs": [
        {
          "output_type": "execute_result",
          "data": {
            "text/plain": [
              "55.463640541591545"
            ]
          },
          "metadata": {
            "tags": []
          },
          "execution_count": 35
        }
      ]
    },
    {
      "cell_type": "code",
      "metadata": {
        "id": "ZwQsipmZd5Ru"
      },
      "source": [
        ""
      ],
      "execution_count": null,
      "outputs": []
    }
  ]
}